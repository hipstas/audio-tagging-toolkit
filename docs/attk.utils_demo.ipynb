{
 "cells": [
  {
   "cell_type": "code",
   "execution_count": 1,
   "metadata": {},
   "outputs": [],
   "source": [
    "## Suppresses text output from this cell\n",
    "#%%capture\n",
    "\n",
    "## Install the latest version of Audio Tagging Toolkit\n",
    "#!pip install -U git+git://github.com/hipstas/audio-tagging-toolkit.git\n",
    "\n",
    "## Or ...\n",
    "#!pip install -U attk"
   ]
  },
  {
   "cell_type": "code",
   "execution_count": null,
   "metadata": {
    "collapsed": true
   },
   "outputs": [],
   "source": [
    "import attk\n",
    "import os\n",
    "import random"
   ]
  },
  {
   "cell_type": "code",
   "execution_count": 3,
   "metadata": {},
   "outputs": [
    {
     "name": "stdout",
     "output_type": "stream",
     "text": [
      "--2017-06-29 00:30:42--  https://media.sas.upenn.edu/pennsound/authors/Armantrout/WPS1/Armantrout-Rae_06_Way_WPS1_NY_5-10-06.mp3\n",
      "Resolving media.sas.upenn.edu (media.sas.upenn.edu)... 128.91.234.99\n",
      "Connecting to media.sas.upenn.edu (media.sas.upenn.edu)|128.91.234.99|:443... connected.\n",
      "HTTP request sent, awaiting response... 200 OK\n",
      "Length: 442220 (432K) [audio/mpeg]\n",
      "Saving to: 'Armantrout-Rae_06_Way_WPS1_NY_5-10-06.mp3'\n",
      "\n",
      "100%[======================================>] 442,220      533KB/s   in 0.8s   \n",
      "\n",
      "2017-06-29 00:30:44 (533 KB/s) - 'Armantrout-Rae_06_Way_WPS1_NY_5-10-06.mp3' saved [442220/442220]\n",
      "\n"
     ]
    }
   ],
   "source": [
    "## Download an MP3 audio file\n",
    "\n",
    "!wget https://media.sas.upenn.edu/pennsound/authors/Armantrout/WPS1/Armantrout-Rae_06_Way_WPS1_NY_5-10-06.mp3\n",
    "\n",
    "media_path='./Armantrout-Rae_06_Way_WPS1_NY_5-10-06.mp3'"
   ]
  },
  {
   "cell_type": "code",
   "execution_count": 4,
   "metadata": {
    "collapsed": true
   },
   "outputs": [],
   "source": [
    "## Create a temporary WAV copy of the MP3 and assign its pathname to a variable\n",
    "\n",
    "wav_pathname = attk.temp_wav_path(media_path)"
   ]
  },
  {
   "cell_type": "code",
   "execution_count": 5,
   "metadata": {},
   "outputs": [
    {
     "data": {
      "text/plain": [
       "'/var/tmp/Armantrout-Rae_06_Way_WPS1_NY_5-10-06.mp3_temp_0889673246084.wav'"
      ]
     },
     "execution_count": 5,
     "metadata": {},
     "output_type": "execute_result"
    }
   ],
   "source": [
    "## View the pathname of our temporary file\n",
    "\n",
    "wav_pathname"
   ]
  },
  {
   "cell_type": "code",
   "execution_count": 6,
   "metadata": {},
   "outputs": [
    {
     "data": {
      "text/plain": [
       "27.506939"
      ]
     },
     "execution_count": 6,
     "metadata": {},
     "output_type": "execute_result"
    }
   ],
   "source": [
    "## Return file duration in seconds via ffprobe\n",
    "## (accepts just about any audio or video format)\n",
    "\n",
    "dur_secs = attk.duration(wav_pathname)\n",
    "\n",
    "dur_secs"
   ]
  },
  {
   "cell_type": "code",
   "execution_count": 7,
   "metadata": {},
   "outputs": [
    {
     "data": {
      "text/plain": [
       "[array([ 4.88912813,  4.86148326,  4.81562052,  4.75185603,  4.67062843,\n",
       "         4.57249505,  4.45812703,  4.32830342,  4.18390437,  4.02590352,\n",
       "         3.85535948,  3.67340672]),\n",
       " array([ 18.16073429,   8.14900296,   6.44380459,  12.19986734,\n",
       "         15.50696027,  13.35756596,  11.44315126,  12.43646308,\n",
       "         12.51991313,   9.88495127,   8.08871926,   9.10315133])]"
      ]
     },
     "execution_count": 7,
     "metadata": {},
     "output_type": "execute_result"
    }
   ],
   "source": [
    "## Extract 12 Mel Frequency Ceptstral Coefficients (0th coefficient removed)\n",
    "## and display 2 bins' worth of values\n",
    "\n",
    "mfccs = attk.get_mfccs(wav_pathname)\n",
    "\n",
    "mfccs[:2]"
   ]
  },
  {
   "cell_type": "code",
   "execution_count": 8,
   "metadata": {},
   "outputs": [
    {
     "data": {
      "text/plain": [
       "[[4.8891281260629844,\n",
       "  4.8614832582619174,\n",
       "  4.8156205244252135,\n",
       "  4.7518560322128582,\n",
       "  4.6706284303648511,\n",
       "  4.5724950536127373,\n",
       "  4.4581270325582452,\n",
       "  4.3283034173542285,\n",
       "  4.1839043737809876,\n",
       "  4.0259035194587414,\n",
       "  3.8553594763372412,\n",
       "  3.6734067232016621,\n",
       "  4.8133559775583272,\n",
       "  1.191450850108303,\n",
       "  -0.37226854968814715,\n",
       "  0.70426170253225506,\n",
       "  1.3104868391712103,\n",
       "  3.1379218456983469,\n",
       "  1.0520799309531368,\n",
       "  1.2556289226073438,\n",
       "  0.42873379881270718,\n",
       "  1.6618632549441084,\n",
       "  1.6488683559831299,\n",
       "  0.37049697506437612,\n",
       "  1.3496791503333647,\n",
       "  9.3681404046226966,\n",
       "  0.17473049804926169,\n",
       "  -0.10540146256397029,\n",
       "  -0.059892229159298711,\n",
       "  0.096238164683471419,\n",
       "  0.29356124001780193,\n",
       "  0.11424387052939833,\n",
       "  0.070216121476321974,\n",
       "  0.021726291675793388,\n",
       "  0.13357155846388596,\n",
       "  0.12829685295503751,\n",
       "  0.024527303256040835,\n",
       "  0.094207834558294873],\n",
       " [18.160734290678111,\n",
       "  8.1490029616752189,\n",
       "  6.4438045925032785,\n",
       "  12.19986734052689,\n",
       "  15.506960266105509,\n",
       "  13.357565960054863,\n",
       "  11.443151264102273,\n",
       "  12.43646307962644,\n",
       "  12.519913128930284,\n",
       "  9.8849512728161084,\n",
       "  8.0887192596856661,\n",
       "  9.1031513339433161,\n",
       "  6.203789104693751,\n",
       "  1.8987209627566199,\n",
       "  -0.8861754537057045,\n",
       "  1.6747019226932673,\n",
       "  1.9702285274410731,\n",
       "  2.7249624930001612,\n",
       "  1.2145782036504609,\n",
       "  0.83047540111262785,\n",
       "  0.43505467547740806,\n",
       "  2.0507632078055882,\n",
       "  1.7536039422009744,\n",
       "  0.43334766698622562,\n",
       "  0.60663420154143632,\n",
       "  6.213678633758243,\n",
       "  0.2361300933597737,\n",
       "  -0.1312648248802416,\n",
       "  0.07807172078227452,\n",
       "  0.19678022911582593,\n",
       "  0.38335304269406217,\n",
       "  0.15425327932382632,\n",
       "  0.10377621611321114,\n",
       "  0.039497946124638653,\n",
       "  0.22757743342251724,\n",
       "  0.20653843075831263,\n",
       "  0.044364220090983536,\n",
       "  0.10642860907378415]]"
      ]
     },
     "execution_count": 8,
     "metadata": {},
     "output_type": "execute_result"
    }
   ],
   "source": [
    "## Extract MFCC + delta + delta delta features and display 2 bins' worth of values\n",
    "\n",
    "mfcc_d = attk.get_mfccs_and_deltas(wav_pathname)\n",
    "\n",
    "mfcc_d[:2]"
   ]
  },
  {
   "cell_type": "markdown",
   "metadata": {},
   "source": [
    "## *Working with ML classifier output values*"
   ]
  },
  {
   "cell_type": "code",
   "execution_count": 9,
   "metadata": {},
   "outputs": [
    {
     "data": {
      "text/plain": [
       "array([ 1.        ,  1.73248847,  2.33019795,  2.721414  ,  2.9310428 ,\n",
       "        3.43288806,  4.51203204,  5.7155214 ,  6.4802301 ,  6.44834244,\n",
       "        5.634779  ,  4.42021517,  3.32096873,  2.721414  ,  2.35619301,\n",
       "        2.0582609 ,  2.07100367,  2.31047366,  2.53464488,  2.53464488,\n",
       "        2.31047366,  2.04500861,  1.99243909,  2.33333333,  2.88218807,\n",
       "        3.35619301,  3.63753622,  3.64656421,  3.35305762,  2.76437614])"
      ]
     },
     "execution_count": 9,
     "metadata": {},
     "output_type": "execute_result"
    }
   ],
   "source": [
    "## Apply a rolling average to a list of values\n",
    "## default window size: 10\n",
    "\n",
    "smoothed_vals = attk.smooth([1,2,3,4,3,2,3,4,19,3,2,3,4,3,2,1,1,1,8,1,1,1,2,3,3,4,4,4,4,2])\n",
    "\n",
    "smoothed_vals"
   ]
  },
  {
   "cell_type": "code",
   "execution_count": 10,
   "metadata": {},
   "outputs": [
    {
     "data": {
      "text/plain": [
       "array([ 0.1       ,  0.29369676,  0.46122841,  0.58139416,  0.65541621,\n",
       "        0.66711531,  0.61101733,  0.51831019,  0.4139161 ,  0.30768963,\n",
       "        0.20800317,  0.1331665 ])"
      ]
     },
     "execution_count": 10,
     "metadata": {},
     "output_type": "execute_result"
    }
   ],
   "source": [
    "## Apply a rolling average to a list of binary classifier output values\n",
    "## default window size: 10\n",
    "\n",
    "smoothed_classes = attk.smooth([0.1, 0.01, 1.0, 0.7, 0.99, 0.2, 0.7, 0.9, 0.1, 0.1, 0.2, 0.1])\n",
    "\n",
    "smoothed_classes"
   ]
  },
  {
   "cell_type": "code",
   "execution_count": 11,
   "metadata": {},
   "outputs": [
    {
     "data": {
      "text/plain": [
       "[0.0, 0.0, 0.0, 1.0, 1.0, 1.0, 1.0, 1.0, 0.0, 0.0, 0.0, 0.0]"
      ]
     },
     "execution_count": 11,
     "metadata": {},
     "output_type": "execute_result"
    }
   ],
   "source": [
    "## Round values to the nearest whole number using list comprehension notation\n",
    "\n",
    "rounded_classes = [round(item) for item in smoothed_classes]\n",
    "\n",
    "rounded_classes"
   ]
  },
  {
   "cell_type": "code",
   "execution_count": 12,
   "metadata": {},
   "outputs": [
    {
     "data": {
      "text/plain": [
       "[(0, 3), (8, 12)]"
      ]
     },
     "execution_count": 12,
     "metadata": {},
     "output_type": "execute_result"
    }
   ],
   "source": [
    "## Convert a list of labels to a list of (start, end) pairs corresponding \n",
    "## to a specified label\n",
    "\n",
    "range_pairs = attk.labels_to_ranges(rounded_classes, label=0)\n",
    "\n",
    "range_pairs"
   ]
  },
  {
   "cell_type": "code",
   "execution_count": 13,
   "metadata": {},
   "outputs": [
    {
     "data": {
      "text/plain": [
       "[False,\n",
       " False,\n",
       " False,\n",
       " False,\n",
       " False,\n",
       " True,\n",
       " True,\n",
       " True,\n",
       " False,\n",
       " False,\n",
       " False,\n",
       " True,\n",
       " False,\n",
       " True,\n",
       " False,\n",
       " True,\n",
       " True,\n",
       " True,\n",
       " True,\n",
       " True,\n",
       " False,\n",
       " False,\n",
       " False,\n",
       " True,\n",
       " False,\n",
       " False,\n",
       " False,\n",
       " False,\n",
       " False,\n",
       " False,\n",
       " True,\n",
       " False,\n",
       " False,\n",
       " False,\n",
       " False,\n",
       " False,\n",
       " False,\n",
       " False,\n",
       " False,\n",
       " False,\n",
       " False,\n",
       " True,\n",
       " True,\n",
       " False,\n",
       " False,\n",
       " False,\n",
       " False,\n",
       " False,\n",
       " True,\n",
       " True,\n",
       " False,\n",
       " False,\n",
       " True,\n",
       " False,\n",
       " True,\n",
       " True,\n",
       " True,\n",
       " False,\n",
       " False,\n",
       " True,\n",
       " True,\n",
       " True,\n",
       " True,\n",
       " False,\n",
       " False,\n",
       " False,\n",
       " False,\n",
       " False,\n",
       " False,\n",
       " True,\n",
       " True,\n",
       " False,\n",
       " False,\n",
       " False,\n",
       " False,\n",
       " True,\n",
       " False,\n",
       " False,\n",
       " False,\n",
       " True,\n",
       " True,\n",
       " True,\n",
       " True,\n",
       " False,\n",
       " False,\n",
       " False,\n",
       " False,\n",
       " False,\n",
       " False,\n",
       " False,\n",
       " False,\n",
       " False,\n",
       " False,\n",
       " False,\n",
       " True,\n",
       " False,\n",
       " False,\n",
       " True,\n",
       " True,\n",
       " False,\n",
       " False,\n",
       " True,\n",
       " True,\n",
       " True,\n",
       " True,\n",
       " True,\n",
       " True,\n",
       " True,\n",
       " False,\n",
       " False,\n",
       " True,\n",
       " True,\n",
       " True,\n",
       " False,\n",
       " False,\n",
       " False,\n",
       " True,\n",
       " False,\n",
       " True,\n",
       " True,\n",
       " True,\n",
       " True,\n",
       " False,\n",
       " False,\n",
       " True,\n",
       " True,\n",
       " False,\n",
       " False,\n",
       " False,\n",
       " False,\n",
       " False,\n",
       " False,\n",
       " False,\n",
       " False,\n",
       " False,\n",
       " False,\n",
       " True,\n",
       " True,\n",
       " True,\n",
       " True,\n",
       " False,\n",
       " False,\n",
       " False,\n",
       " True,\n",
       " False,\n",
       " True,\n",
       " True,\n",
       " True,\n",
       " True,\n",
       " True,\n",
       " False,\n",
       " False,\n",
       " False,\n",
       " True,\n",
       " False,\n",
       " False,\n",
       " False,\n",
       " False,\n",
       " False,\n",
       " False,\n",
       " False,\n",
       " False,\n",
       " False,\n",
       " True,\n",
       " True,\n",
       " True,\n",
       " False,\n",
       " False,\n",
       " False,\n",
       " False,\n",
       " False,\n",
       " False,\n",
       " False,\n",
       " False,\n",
       " False,\n",
       " False,\n",
       " True,\n",
       " True,\n",
       " False,\n",
       " False,\n",
       " True,\n",
       " True,\n",
       " True,\n",
       " False,\n",
       " True,\n",
       " True,\n",
       " True,\n",
       " True,\n",
       " True,\n",
       " True,\n",
       " False,\n",
       " False,\n",
       " False,\n",
       " False,\n",
       " True,\n",
       " False,\n",
       " True,\n",
       " False,\n",
       " False,\n",
       " True,\n",
       " True,\n",
       " False,\n",
       " True,\n",
       " True,\n",
       " True,\n",
       " True,\n",
       " False,\n",
       " False,\n",
       " False,\n",
       " False,\n",
       " False,\n",
       " True,\n",
       " False,\n",
       " True,\n",
       " True,\n",
       " False,\n",
       " False,\n",
       " False,\n",
       " False,\n",
       " False,\n",
       " False,\n",
       " False,\n",
       " True,\n",
       " True,\n",
       " True,\n",
       " True,\n",
       " False,\n",
       " True,\n",
       " True,\n",
       " True,\n",
       " True,\n",
       " False,\n",
       " True,\n",
       " False,\n",
       " False,\n",
       " False,\n",
       " False,\n",
       " True,\n",
       " False,\n",
       " True,\n",
       " True,\n",
       " False,\n",
       " False,\n",
       " False,\n",
       " False,\n",
       " False,\n",
       " False,\n",
       " False,\n",
       " False,\n",
       " True,\n",
       " True,\n",
       " False,\n",
       " False,\n",
       " True,\n",
       " True,\n",
       " True,\n",
       " True,\n",
       " True,\n",
       " False,\n",
       " False,\n",
       " False,\n",
       " False,\n",
       " True,\n",
       " False,\n",
       " False,\n",
       " False,\n",
       " False,\n",
       " False,\n",
       " False,\n",
       " False,\n",
       " False,\n",
       " False,\n",
       " False,\n",
       " False,\n",
       " True,\n",
       " True,\n",
       " True,\n",
       " True,\n",
       " False,\n",
       " False,\n",
       " False,\n",
       " True,\n",
       " True,\n",
       " True,\n",
       " False,\n",
       " False,\n",
       " False,\n",
       " False,\n",
       " True,\n",
       " False,\n",
       " False,\n",
       " False,\n",
       " False,\n",
       " False,\n",
       " False,\n",
       " True,\n",
       " False,\n",
       " False,\n",
       " True,\n",
       " True,\n",
       " True,\n",
       " True,\n",
       " True,\n",
       " True,\n",
       " True,\n",
       " True,\n",
       " True,\n",
       " True,\n",
       " True,\n",
       " False,\n",
       " False,\n",
       " True,\n",
       " True,\n",
       " True,\n",
       " True,\n",
       " True,\n",
       " False,\n",
       " False,\n",
       " False,\n",
       " True,\n",
       " True,\n",
       " False,\n",
       " False,\n",
       " False,\n",
       " False,\n",
       " False,\n",
       " False,\n",
       " True,\n",
       " True,\n",
       " True,\n",
       " True,\n",
       " True,\n",
       " False,\n",
       " False,\n",
       " False,\n",
       " False,\n",
       " False,\n",
       " False,\n",
       " False,\n",
       " False,\n",
       " True,\n",
       " False,\n",
       " False,\n",
       " True,\n",
       " False,\n",
       " False,\n",
       " True,\n",
       " True,\n",
       " True,\n",
       " False,\n",
       " False,\n",
       " False,\n",
       " False,\n",
       " True,\n",
       " True,\n",
       " True,\n",
       " True,\n",
       " True,\n",
       " True,\n",
       " True,\n",
       " False,\n",
       " False,\n",
       " False,\n",
       " False,\n",
       " True,\n",
       " True,\n",
       " True,\n",
       " True,\n",
       " True,\n",
       " True,\n",
       " False,\n",
       " False,\n",
       " False,\n",
       " False,\n",
       " False,\n",
       " False,\n",
       " False,\n",
       " False,\n",
       " False,\n",
       " False,\n",
       " False,\n",
       " False,\n",
       " False,\n",
       " False,\n",
       " False,\n",
       " False,\n",
       " False,\n",
       " False,\n",
       " False,\n",
       " False,\n",
       " False,\n",
       " False,\n",
       " True,\n",
       " False,\n",
       " True,\n",
       " True,\n",
       " True,\n",
       " True,\n",
       " True,\n",
       " True,\n",
       " False,\n",
       " False,\n",
       " False,\n",
       " True,\n",
       " True,\n",
       " True,\n",
       " True,\n",
       " True,\n",
       " False,\n",
       " True,\n",
       " True,\n",
       " False,\n",
       " True,\n",
       " True,\n",
       " True,\n",
       " False,\n",
       " True,\n",
       " False,\n",
       " False,\n",
       " True,\n",
       " True,\n",
       " False,\n",
       " False,\n",
       " False,\n",
       " False,\n",
       " False,\n",
       " False,\n",
       " False,\n",
       " False,\n",
       " False,\n",
       " False,\n",
       " False,\n",
       " False,\n",
       " False,\n",
       " False,\n",
       " False,\n",
       " False,\n",
       " True,\n",
       " False,\n",
       " True,\n",
       " True,\n",
       " False,\n",
       " False,\n",
       " False,\n",
       " True,\n",
       " False,\n",
       " False,\n",
       " True,\n",
       " True,\n",
       " True,\n",
       " False,\n",
       " False,\n",
       " False,\n",
       " False,\n",
       " False,\n",
       " False,\n",
       " False,\n",
       " False,\n",
       " False,\n",
       " True,\n",
       " True,\n",
       " True,\n",
       " True,\n",
       " False,\n",
       " False,\n",
       " False,\n",
       " False,\n",
       " False,\n",
       " False,\n",
       " False,\n",
       " False,\n",
       " False,\n",
       " False,\n",
       " False,\n",
       " False,\n",
       " False,\n",
       " False,\n",
       " False,\n",
       " False,\n",
       " False,\n",
       " False,\n",
       " False,\n",
       " False,\n",
       " False,\n",
       " False,\n",
       " False,\n",
       " False,\n",
       " False,\n",
       " False,\n",
       " True,\n",
       " True,\n",
       " True,\n",
       " True,\n",
       " True,\n",
       " True,\n",
       " True,\n",
       " False,\n",
       " False,\n",
       " True,\n",
       " True,\n",
       " True,\n",
       " True,\n",
       " True,\n",
       " True,\n",
       " False,\n",
       " False,\n",
       " False,\n",
       " False,\n",
       " False,\n",
       " True,\n",
       " False,\n",
       " False,\n",
       " False,\n",
       " True,\n",
       " True,\n",
       " True,\n",
       " False,\n",
       " False,\n",
       " False,\n",
       " False,\n",
       " False,\n",
       " False,\n",
       " False,\n",
       " False,\n",
       " False,\n",
       " False,\n",
       " True,\n",
       " True,\n",
       " True,\n",
       " False,\n",
       " False,\n",
       " False,\n",
       " False,\n",
       " False,\n",
       " True,\n",
       " False,\n",
       " False,\n",
       " False,\n",
       " False,\n",
       " False,\n",
       " False,\n",
       " False,\n",
       " True,\n",
       " False,\n",
       " False,\n",
       " False,\n",
       " False,\n",
       " False,\n",
       " False,\n",
       " False,\n",
       " False,\n",
       " False,\n",
       " False,\n",
       " True,\n",
       " True,\n",
       " True,\n",
       " False,\n",
       " False,\n",
       " False,\n",
       " False,\n",
       " False,\n",
       " False,\n",
       " False,\n",
       " True,\n",
       " False,\n",
       " False,\n",
       " False,\n",
       " False,\n",
       " False,\n",
       " False,\n",
       " False,\n",
       " True,\n",
       " True,\n",
       " True,\n",
       " True,\n",
       " True,\n",
       " False,\n",
       " False,\n",
       " False,\n",
       " False,\n",
       " False,\n",
       " False,\n",
       " False,\n",
       " False,\n",
       " False,\n",
       " True,\n",
       " True,\n",
       " False,\n",
       " False,\n",
       " False,\n",
       " False,\n",
       " True,\n",
       " False]"
      ]
     },
     "execution_count": 13,
     "metadata": {},
     "output_type": "execute_result"
    }
   ],
   "source": [
    "## Determine the approximate location of vowel sounds in speech recordings\n",
    "## bin size: 512\n",
    "\n",
    "vowel_ranges = attk.get_vowel_segments(wav_pathname)\n",
    "\n",
    "vowel_ranges"
   ]
  },
  {
   "cell_type": "code",
   "execution_count": 14,
   "metadata": {},
   "outputs": [
    {
     "name": "stdout",
     "output_type": "stream",
     "text": [
      "[MoviePy] Writing audio in ./Armantrout-Rae_06_Way_WPS1_NY_5-10-06__15.0_21.0.wav\n"
     ]
    },
    {
     "name": "stderr",
     "output_type": "stream",
     "text": [
      "100%|██████████| 133/133 [00:00<00:00, 211.15it/s]"
     ]
    },
    {
     "name": "stdout",
     "output_type": "stream",
     "text": [
      "[MoviePy] Done.\n"
     ]
    },
    {
     "name": "stderr",
     "output_type": "stream",
     "text": [
      "\n"
     ]
    }
   ],
   "source": [
    "## Quickly excerpt WAV segments from media files using moviepy\n",
    "\n",
    "media_path = 'Armantrout-Rae_06_Way_WPS1_NY_5-10-06.mp3'\n",
    "\n",
    "wav_path = attk.subclip(media_path,15,21,out_dir='./') # starting at 15 seconds, ending at 21 seconds"
   ]
  },
  {
   "cell_type": "code",
   "execution_count": 15,
   "metadata": {},
   "outputs": [
    {
     "name": "stdout",
     "output_type": "stream",
     "text": [
      "[MoviePy] Writing audio in Armantrout-Rae_06_Way_WPS1_NY_5-10-06__0.5_15.75.wav\n"
     ]
    },
    {
     "name": "stderr",
     "output_type": "stream",
     "text": [
      "100%|██████████| 337/337 [00:01<00:00, 236.31it/s]"
     ]
    },
    {
     "name": "stdout",
     "output_type": "stream",
     "text": [
      "[MoviePy] Done.\n"
     ]
    },
    {
     "name": "stderr",
     "output_type": "stream",
     "text": [
      "\n"
     ]
    },
    {
     "data": {
      "text/plain": [
       "'Armantrout-Rae_06_Way_WPS1_NY_5-10-06__0.5_15.75.wav'"
      ]
     },
     "execution_count": 15,
     "metadata": {},
     "output_type": "execute_result"
    }
   ],
   "source": [
    "## Create a WAV excerpt without specifying a destination directory\n",
    "## (writes excerpt to directory containing the specified media file)\n",
    "\n",
    "attk.subclip(media_path, 0.5, 15.75)"
   ]
  },
  {
   "cell_type": "code",
   "execution_count": null,
   "metadata": {
    "collapsed": true
   },
   "outputs": [],
   "source": [
    "## View files in the current working directory\n",
    "\n",
    "!ls"
   ]
  },
  {
   "cell_type": "code",
   "execution_count": 16,
   "metadata": {
    "collapsed": true
   },
   "outputs": [],
   "source": [
    "## Move media files into a new directory\n",
    "\n",
    "!mkdir test_dir\n",
    "!mv Armantrout-Rae_06_Way_WPS1_NY_5-10-06* test_dir/"
   ]
  },
  {
   "cell_type": "code",
   "execution_count": null,
   "metadata": {},
   "outputs": [],
   "source": [
    "!ls test_dir/"
   ]
  },
  {
   "cell_type": "code",
   "execution_count": 17,
   "metadata": {},
   "outputs": [
    {
     "data": {
      "text/plain": [
       "['./test_dir/Armantrout-Rae_06_Way_WPS1_NY_5-10-06.mp3',\n",
       " './test_dir/Armantrout-Rae_06_Way_WPS1_NY_5-10-06__0.5_15.75.wav',\n",
       " './test_dir/Armantrout-Rae_06_Way_WPS1_NY_5-10-06__15.0_21.0.wav']"
      ]
     },
     "execution_count": 17,
     "metadata": {},
     "output_type": "execute_result"
    }
   ],
   "source": [
    "## Recursively scans a given directory and returns a list of pathnames for \n",
    "## every media file present\n",
    "\n",
    "dir_path=\"./test_dir\"\n",
    "\n",
    "media_paths = attk.find_media_paths(dir_path)\n",
    "\n",
    "media_paths"
   ]
  },
  {
   "cell_type": "code",
   "execution_count": 18,
   "metadata": {},
   "outputs": [
    {
     "name": "stdout",
     "output_type": "stream",
     "text": [
      "[MoviePy] Writing audio in ./test_dir/Armantrout-Rae_06_Way_WPS1_NY_5-10-06__15.0_21.0__1.3_3.25.wav\n"
     ]
    },
    {
     "name": "stderr",
     "output_type": "stream",
     "text": [
      "100%|██████████| 43/43 [00:00<00:00, 136.91it/s]"
     ]
    },
    {
     "name": "stdout",
     "output_type": "stream",
     "text": [
      "[MoviePy] Done.\n"
     ]
    },
    {
     "name": "stderr",
     "output_type": "stream",
     "text": [
      "\n"
     ]
    },
    {
     "name": "stdout",
     "output_type": "stream",
     "text": [
      "[MoviePy] Writing audio in ./test_dir/Armantrout-Rae_06_Way_WPS1_NY_5-10-06__0.5_15.75__1.3_3.25.wav\n"
     ]
    },
    {
     "name": "stderr",
     "output_type": "stream",
     "text": [
      "100%|██████████| 43/43 [00:00<00:00, 111.20it/s]"
     ]
    },
    {
     "name": "stdout",
     "output_type": "stream",
     "text": [
      "[MoviePy] Done.\n"
     ]
    },
    {
     "name": "stderr",
     "output_type": "stream",
     "text": [
      "\n"
     ]
    },
    {
     "name": "stdout",
     "output_type": "stream",
     "text": [
      "[MoviePy] Writing audio in ./test_dir/Armantrout-Rae_06_Way_WPS1_NY_5-10-06__1.3_3.25.wav\n"
     ]
    },
    {
     "name": "stderr",
     "output_type": "stream",
     "text": [
      "100%|██████████| 43/43 [00:00<00:00, 84.40it/s]\n"
     ]
    },
    {
     "name": "stdout",
     "output_type": "stream",
     "text": [
      "[MoviePy] Done.\n"
     ]
    }
   ],
   "source": [
    "## Excerpting first 5 seconds from every media file in a directory,\n",
    "\n",
    "import random\n",
    "\n",
    "media_paths=[item for item in attk.find_media_paths(dir_path) if item[-4:].lower() in ('.mp3','.wav','.mp4')]\n",
    "\n",
    "random.shuffle(media_paths)\n",
    "\n",
    "for media_path in media_paths:\n",
    "\tattk.subclip(media_path, 1.3, 3.25, out_dir = './test_dir')"
   ]
  },
  {
   "cell_type": "code",
   "execution_count": null,
   "metadata": {
    "collapsed": true
   },
   "outputs": [],
   "source": [
    "!ls"
   ]
  },
  {
   "cell_type": "code",
   "execution_count": null,
   "metadata": {
    "collapsed": true
   },
   "outputs": [],
   "source": [
    "## Be sure to delete your temp file when you're finished using it.\n",
    "\n",
    "os.remove(temp_media_path)"
   ]
  }
 ],
 "metadata": {
  "kernelspec": {
   "display_name": "Python 2",
   "language": "python",
   "name": "python2"
  },
  "language_info": {
   "codemirror_mode": {
    "name": "ipython",
    "version": 2
   },
   "file_extension": ".py",
   "mimetype": "text/x-python",
   "name": "python",
   "nbconvert_exporter": "python",
   "pygments_lexer": "ipython2",
   "version": "2.7.6"
  }
 },
 "nbformat": 4,
 "nbformat_minor": 2
}
