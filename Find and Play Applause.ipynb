{
 "cells": [
  {
   "cell_type": "code",
   "execution_count": null,
   "metadata": {
    "collapsed": true
   },
   "outputs": [],
   "source": [
    "import os\n",
    "import subprocess\n",
    "import array\n",
    "import random\n",
    "import pandas as pd\n",
    "from pyAudioAnalysis import audioSegmentation as aS\n",
    "from itertools import groupby\n",
    "from operator import itemgetter\n",
    "from IPython.display import display, Audio\n",
    "from pydub import AudioSegment\n",
    "from pydub.utils import get_array_type\n",
    "import matplotlib.pyplot as plt\n",
    "from tqdm import tqdm\n",
    "import requests\n",
    "%matplotlib inline\n",
    "\n",
    "# os.chdir('/path/to/audio-tagging-toolkit/')   ## Use if necessary."
   ]
  },
  {
   "cell_type": "code",
   "execution_count": null,
   "metadata": {
    "collapsed": true
   },
   "outputs": [],
   "source": [
    "# Takes list of 1-second segments classified as applause (1.0) or \n",
    "# non-applause (0.0) and returns list of 2-tuples specifying applause ranges.\n",
    "# Add 1 to 2nd value in each 2-tuple for inclusive time span.\n",
    "def seconds_list_to_ranges(seconds_list): \n",
    "    ranges = []                \n",
    "    for k, g in groupby(enumerate(seconds_list), lambda (i,x):i-x):\n",
    "        group = map(itemgetter(1), g)\n",
    "        ranges.append((group[0], group[-1]))\n",
    "    return ranges\n",
    "\n",
    "\n",
    "# Displays specified audio segment in Jupyter window using IPython.display\n",
    "def display_clip(wav_path,start_time,end_time):\n",
    "    track_data = AudioSegment.from_wav(file=wav_path)\n",
    "    track_data = track_data.set_channels(1)\n",
    "    bit_depth = track_data.sample_width * 8\n",
    "    clip_data = track_data[int(1000*start_time):int(1000*end_time)]\n",
    "    array_type = get_array_type(bit_depth)\n",
    "    numeric_array = array.array(array_type, clip_data._data)\n",
    "    display(Audio(numeric_array, rate=track_data.frame_rate))\n",
    "\n",
    "# Classifies audio at 1-second resolution, plots results if applause found, \n",
    "# and returns applause ranges as list of 2-tuples.\n",
    "# Add 1 to 2nd value in each 2-tuple for inclusive time span.\n",
    "def find_sound(audio_path):\n",
    "    classifier_model_path = \"data/svm_applause_model\" # Or replace with another scikit-learn model\n",
    "    is_mp3=False\n",
    "    if (((audio_path.lower()[:8]=='https://') | (audio_path.lower()[:7]=='http://')) & (audio_path.lower()[-4:]=='.mp3')):\n",
    "        is_mp3=True\n",
    "        random.seed(audio_path)\n",
    "        wav_path='/var/tmp/'+str(random.random())+'_temp.wav'\n",
    "        mp3_path='/var/tmp/'+str(random.random())+'_temp.mp3' # Filename for temp WAV is a random float\n",
    "        response = requests.get(audio_path, stream=True)\n",
    "        with open(mp3_path, \"wb\") as fo:\n",
    "            for data in tqdm(response.iter_content()):\n",
    "                fo.write(data)\n",
    "        subprocess.call(['ffmpeg', '-y', '-i', mp3_path, wav_path]) # '-y' option overwrites existing file if present\n",
    "\n",
    "    elif audio_path.lower()[-4:]=='.mp3':    # Creates a temporary WAV\n",
    "        is_mp3=True                          # if input is MP3\n",
    "        random.seed(audio_path)\n",
    "        wav_path='/var/tmp/'+str(random.random())+'_temp.wav' # Filename for temp WAV is a random float\n",
    "        subprocess.call(['ffmpeg', '-y', '-i', audio_path, wav_path]) # '-y' option overwrites existing file if present\n",
    "    else:\n",
    "        wav_path=audio_path\n",
    "    output, classesAll, acc, CM = aS.mtFileClassification(wav_path, classifier_model_path, \"svm\")\n",
    "    output = list(output)\n",
    "    counter=0\n",
    "    applause_secs=[]\n",
    "    for value in output:\n",
    "        if value>0.0:\n",
    "            applause_secs.append(counter)\n",
    "        counter+=1\n",
    "    applause_ranges=seconds_list_to_ranges(applause_secs)\n",
    "    if len(applause_ranges)>0:\n",
    "        print applause_ranges\n",
    "        print '\\n'\n",
    "        pd.Series(output).plot()\n",
    "        plt.show()\n",
    "    for pair in applause_ranges:\n",
    "        print pair\n",
    "        display_clip(wav_path,pair[0],pair[1]+1)\n",
    "    if is_mp3==True:\n",
    "        os.remove(wav_path)\n",
    "    return applause_ranges"
   ]
  },
  {
   "cell_type": "code",
   "execution_count": null,
   "metadata": {
    "collapsed": false
   },
   "outputs": [],
   "source": [
    "url=\"http://media.sas.upenn.edu/pennsound/authors/Baraka/SFSU-1965/Baraka-Amiri_06_Poem-for-Half-White_SFSU_3-4-65.mp3\"\n",
    "\n",
    "find_sound(url)"
   ]
  },
  {
   "cell_type": "code",
   "execution_count": null,
   "metadata": {
    "collapsed": false
   },
   "outputs": [],
   "source": [
    "pathname=\"/path/to/local_file.mp3\"\n",
    "\n",
    "find_sound(pathname)"
   ]
  }
 ],
 "metadata": {
  "kernelspec": {
   "display_name": "Python 2",
   "language": "python",
   "name": "python2"
  },
  "language_info": {
   "codemirror_mode": {
    "name": "ipython",
    "version": 2
   },
   "file_extension": ".py",
   "mimetype": "text/x-python",
   "name": "python",
   "nbconvert_exporter": "python",
   "pygments_lexer": "ipython2",
   "version": "2.7.12"
  }
 },
 "nbformat": 4,
 "nbformat_minor": 1
}
